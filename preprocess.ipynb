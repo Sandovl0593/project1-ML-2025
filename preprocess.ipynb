{
 "cells": [
  {
   "cell_type": "code",
   "execution_count": 2,
   "id": "b341a909",
   "metadata": {},
   "outputs": [],
   "source": [
    "import numpy as np\n",
    "import pandas as pd\n",
    "import h5py\n",
    "from tsfresh import extract_features\n",
    "from tsfresh.utilities.dataframe_functions import impute\n",
    "from tsfresh.feature_extraction import MinimalFCParameters"
   ]
  },
  {
   "cell_type": "markdown",
   "id": "fe50ae09",
   "metadata": {},
   "source": [
    "## Extracción de datos"
   ]
  },
  {
   "cell_type": "code",
   "execution_count": null,
   "id": "e7170a54",
   "metadata": {},
   "outputs": [],
   "source": [
    "def features_from_file(filename, groups):\n",
    "    with h5py.File(filename, 'r') as f:\n",
    "        group_dict = {group: f[group][:] for group in groups}\n",
    "        target = f['y'][:] if 'y' in f else np.array([])\n",
    "\n",
    "    n_samples = next(iter(group_dict.values())).shape[0]\n",
    "\n",
    "    dataSerie_train = []\n",
    "    for group, matrix in group_dict.items():\n",
    "        df = pd.DataFrame(matrix)\n",
    "        df[\"id\"] = np.arange(n_samples)\n",
    "        df_melted = df.melt(id_vars=['id'], var_name='time', value_name='value')\n",
    "        df_melted['group'] = group\n",
    "        dataSerie_train.append(df_melted[['id', 'time', 'group', 'value']]) \n",
    "\n",
    "\n",
    "    df_long_train = pd.concat(dataSerie_train, ignore_index=True)\n",
    "    df_long_train[\"time\"] = df_long_train[\"time\"].astype(int)\n",
    "\n",
    "    extraction_settings = MinimalFCParameters()\n",
    "    # features: sum_values,median,mean,length,standard_deviation,variance,root_mean_square,maximum,absolute_maximum,minimum\n",
    "    # AQUI DEPENDIENDO\n",
    "    extraction_settings.pop(\"length\")  # costo innecesario\n",
    "    extraction_settings.pop(\"absolute_maximum\")    # costo innecesario\n",
    "    extraction_settings.pop(\"median\")  # costo innecesario\n",
    "\n",
    "    data_tsfresh = extract_features(df_long_train, column_id=\"id\", column_sort=\"time\",\n",
    "                                       column_kind=\"group\", column_value=\"value\",\n",
    "                                       default_fc_parameters=extraction_settings,\n",
    "                                       n_jobs=4)\n",
    "\n",
    "    impute(data_tsfresh)\n",
    "    data_tsfresh.reset_index(drop=True, inplace=True)\n",
    "\n",
    "    data = data_tsfresh.sort_index()   # index debe coincidir con 0..n_samples-1\n",
    "    target = np.asarray(target).ravel()\n",
    "\n",
    "    return data, target"
   ]
  },
  {
   "cell_type": "code",
   "execution_count": 5,
   "id": "fe0ece70",
   "metadata": {},
   "outputs": [],
   "source": [
    "train_filename = 'dataset/train.h5'\n",
    "test_filename = 'dataset/test.h5'\n",
    "groups = ['body_acc_x', 'body_acc_y', 'body_acc_z',\n",
    "          'body_gyro_x', 'body_gyro_y', 'body_gyro_z',\n",
    "          'total_acc_x', 'total_acc_y', 'total_acc_z']"
   ]
  },
  {
   "cell_type": "code",
   "execution_count": 11,
   "id": "9f44a449",
   "metadata": {},
   "outputs": [
    {
     "name": "stderr",
     "output_type": "stream",
     "text": [
      "Feature Extraction: 100%|██████████| 20/20 [00:20<00:00,  1.04s/it]\n"
     ]
    }
   ],
   "source": [
    "X_train, y_train = features_from_file(train_filename, groups)\n",
    "train = pd.concat([X_train, pd.Series(y_train, name='y')], axis=1)\n",
    "train.to_csv('dataset/train_preprocessed.csv', index=False)"
   ]
  },
  {
   "cell_type": "code",
   "execution_count": 13,
   "id": "b1d5dd25",
   "metadata": {},
   "outputs": [
    {
     "name": "stderr",
     "output_type": "stream",
     "text": [
      "Feature Extraction: 100%|██████████| 20/20 [00:09<00:00,  2.12it/s]\n"
     ]
    }
   ],
   "source": [
    "X_test, _ = features_from_file(test_filename, groups)\n",
    "X_test.to_csv('dataset/test_preprocessed.csv', index=False)"
   ]
  },
  {
   "cell_type": "markdown",
   "id": "d0400cd2",
   "metadata": {},
   "source": [
    "## Preprocesamiento de datos"
   ]
  },
  {
   "cell_type": "markdown",
   "id": "da878071",
   "metadata": {},
   "source": [
    "### Targets\n",
    "- 1: WALKING\n",
    "- 2: WALKING_UPSTAIRS\n",
    "- 3: WALKING_DOWNSTAIRS\n",
    "- 4: SITTING\n",
    "- 5: STANDING\n",
    "- 6: LAYING\n"
   ]
  },
  {
   "cell_type": "code",
   "execution_count": null,
   "id": "19ff442d",
   "metadata": {},
   "outputs": [],
   "source": [
    "import matplotlib.pyplot as plt\n",
    "import seaborn as sns"
   ]
  }
 ],
 "metadata": {
  "kernelspec": {
   "display_name": "Python 3",
   "language": "python",
   "name": "python3"
  },
  "language_info": {
   "codemirror_mode": {
    "name": "ipython",
    "version": 3
   },
   "file_extension": ".py",
   "mimetype": "text/x-python",
   "name": "python",
   "nbconvert_exporter": "python",
   "pygments_lexer": "ipython3",
   "version": "3.11.4"
  }
 },
 "nbformat": 4,
 "nbformat_minor": 5
}
